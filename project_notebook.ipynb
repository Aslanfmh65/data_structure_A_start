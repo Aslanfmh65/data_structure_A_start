{
 "cells": [
  {
   "cell_type": "code",
   "execution_count": 1,
   "metadata": {},
   "outputs": [
    {
     "data": {
      "text/html": [
       "<script>requirejs.config({paths: { 'plotly': ['https://cdn.plot.ly/plotly-latest.min']},});if(!window.Plotly) {{require(['plotly'],function(plotly) {window.Plotly=plotly;});}}</script>"
      ],
      "text/vnd.plotly.v1+html": [
       "<script>requirejs.config({paths: { 'plotly': ['https://cdn.plot.ly/plotly-latest.min']},});if(!window.Plotly) {{require(['plotly'],function(plotly) {window.Plotly=plotly;});}}</script>"
      ]
     },
     "metadata": {},
     "output_type": "display_data"
    }
   ],
   "source": [
    "# Run this cell first!\n",
    "\n",
    "from helpers import Map, load_map, show_map\n",
    "from student_code import shortest_path\n",
    "import matplotlib.pyplot as plt\n",
    "import numpy as np\n",
    "\n",
    "%load_ext autoreload\n",
    "%autoreload 2"
   ]
  },
  {
   "cell_type": "code",
   "execution_count": 21,
   "metadata": {},
   "outputs": [],
   "source": [
    "def plot_map(map_nodes):\n",
    "    for i in map_nodes:\n",
    "        x = map_nodes[i][0]\n",
    "        y = map_nodes[i][1]\n",
    "        plt.scatter(x,y)\n",
    "        plt.text(x+0.01, y+0.01, i, fontsize=9)\n",
    "        \n",
    "    plt.show()\n",
    "    return \n",
    "\n",
    "def distance(start, goal):\n",
    "    x1 = start[0]\n",
    "    y1 = start[1]\n",
    "    x2 = goal[0]\n",
    "    y2 = goal[1]\n",
    "    \n",
    "    return np.sqrt((x1-x2)**2+(y1-y2)**2)\n",
    "\n",
    "def generate_g_dict(map_roads):\n",
    "    g_dict = {node:{} for node in range(len(map_roads))}\n",
    "    for node_1, child_node in enumerate(map_roads):\n",
    "        for node_2 in child_node:\n",
    "            if node_1 != node_2:\n",
    "                if node_2 in g_dict[node_1]:\n",
    "                    g_dict[node_1][node_2] = g_dict[node_2][node_1]\n",
    "                else:\n",
    "                    g = distance(map_nodes[node_1], map_nodes[node_2])\n",
    "                    g_dict[node_1][node_2] = g\n",
    "    return g_dict"
   ]
  },
  {
   "cell_type": "code",
   "execution_count": 22,
   "metadata": {},
   "outputs": [
    {
     "data": {
      "image/png": "[encoded data removed]",
      "text/plain": [
       "<matplotlib.figure.Figure at 0x7f25062cedd8>"
      ]
     },
     "metadata": {
      "needs_background": "light"
     },
     "output_type": "display_data"
    }
   ],
   "source": [
    "maps = load_map('map-40.pickle')\n",
    "\n",
    "map_nodes = maps.intersections\n",
    "map_roads = maps.roads\n",
    "\n",
    "# Show the points on map\n",
    "plot_map(map_nodes)"
   ]
  },
  {
   "cell_type": "code",
   "execution_count": 69,
   "metadata": {},
   "outputs": [],
   "source": [
    "def begin_search(node, goal, path):\n",
    "    child_nodes = map_roads[node]\n",
    "\n",
    "    if goal in child_nodes:\n",
    "        path.append(goal)\n",
    "        return path\n",
    "    \n",
    "    total_cost = []\n",
    "    for child_node in child_nodes:        \n",
    "        total_cost.append((cost_dict[node][child_node]+distance(map_nodes[child_node],map_nodes[goal]),child_node))\n",
    "    \n",
    "    total_cost.sort()\n",
    "    \n",
    "    while len(total_cost)>0:\n",
    "        next_node = total_cost.pop(0)\n",
    "        if next_node[1] not in path:\n",
    "            path.append(next_node[1])\n",
    "            return begin_search(next_node[1], goal, path)\n",
    "\n",
    "def a_start_search(start_node, goal_node):\n",
    "    if start_node not in map_nodes or goal_node not in map_nodes:\n",
    "        return \"Node not in map\"\n",
    "    if start_node == goal_node:\n",
    "        return [start_node]\n",
    "    path = [start_node]\n",
    "    return begin_search(start_node,goal_node,path)"
   ]
  },
  {
   "cell_type": "code",
   "execution_count": 74,
   "metadata": {},
   "outputs": [
    {
     "data": {
      "text/plain": [
       "[8, 33, 30, 14, 16, 37, 12, 34, 31, 10, 24]"
      ]
     },
     "execution_count": 74,
     "metadata": {},
     "output_type": "execute_result"
    }
   ],
   "source": [
    "start_node = 8\n",
    "goal_node = 24\n",
    "cost_dict = generate_g_dict(map_roads)\n",
    "short_path = a_start_search(start_node, goal_node)\n",
    "short_path\n",
    "# answer: # 8, 24, [8, 14, 16, 37, 12, 17, 10, 24]"
   ]
  },
  {
   "cell_type": "code",
   "execution_count": 75,
   "metadata": {},
   "outputs": [
    {
     "data": {
      "text/plain": [
       "[33, 30, 14]"
      ]
     },
     "execution_count": 75,
     "metadata": {},
     "output_type": "execute_result"
    }
   ],
   "source": [
    "map_roads[8]"
   ]
  },
  {
   "cell_type": "code",
   "execution_count": 78,
   "metadata": {},
   "outputs": [
    {
     "name": "stdout",
     "output_type": "stream",
     "text": [
      "0.922342543837\n",
      "1.15801470438\n",
      "1.22238896653\n"
     ]
    }
   ],
   "source": [
    "for i in map_roads[start_node]:\n",
    "    print(cost_dict[start_node][i]+distance(map_nodes[i],map_nodes[goal_node]))"
   ]
  },
  {
   "cell_type": "code",
   "execution_count": 79,
   "metadata": {},
   "outputs": [],
   "source": [
    "# def begin_search(node, goal, path):\n",
    "#     child_nodes = map_roads[node]\n",
    "#     if goal in child_nodes:\n",
    "#         path.append(goal)\n",
    "#         return path\n",
    "    \n",
    "#     total_cost = []\n",
    "#     for child_node in child_nodes:        \n",
    "#         total_cost.append(cost_dict[node][child_node]+distance(child_node,goal))\n",
    "    \n",
    "#     next_node = child_nodes[total_cost.index(min(total_cost))]\n",
    "#     path.append(next_node)\n",
    "    \n",
    "#     if path[-1] != goal:\n",
    "#         return begin_search(next_node, goal, path)\n",
    "#     else:\n",
    "#         return \"Path not found\"\n",
    "\n",
    "# def a_start_search(start_node, goal_node):\n",
    "#     if start_node not in map_nodes or goal_node not in map_nodes:\n",
    "#         return \"Node not in map\"\n",
    "#     if start_node == goal_node:\n",
    "#         return [start_node]\n",
    "#     path = [start_node]\n",
    "#     return begin_search(start_node,goal_node,path)"
   ]
  }
 ],
 "metadata": {
  "kernelspec": {
   "display_name": "Python 3",
   "language": "python",
   "name": "python3"
  },
  "language_info": {
   "codemirror_mode": {
    "name": "ipython",
    "version": 3
   },
   "file_extension": ".py",
   "mimetype": "text/x-python",
   "name": "python",
   "nbconvert_exporter": "python",
   "pygments_lexer": "ipython3",
   "version": "3.6.3"
  }
 },
 "nbformat": 4,
 "nbformat_minor": 2
}
